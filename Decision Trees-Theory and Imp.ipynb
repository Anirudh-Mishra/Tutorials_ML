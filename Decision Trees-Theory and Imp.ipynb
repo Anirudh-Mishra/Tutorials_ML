{
 "cells": [
  {
   "cell_type": "markdown",
   "metadata": {},
   "source": [
    "<center><h1>Decision Trees</h1></center> \n",
    "<br>Decision trees are an algorithm used for both classification and regression problems. The speciality of this algorithm is it mimics human level thinking so its simple to understand the data and make good interpretations. A decision tree is built top-down from a root node and involves partitioning the data into subsets that contain instances with similar values analogous to an actual tree with branches and leaves. Each internal node of the tree corresponds to an attribute. Each leaf node corresponds to a Class Label. In the decision tree for predicting a class label for a record, we start from the root of the tree. We compare the value of the root attribute with the record’s attribute on the basis of comparison. We follow the branch corresponding to that value & jump to the next node. We continue comparing our record’s attribute value with other internal nodes of the tree until we reach a leaf node."
   ]
  },
  {
   "cell_type": "markdown",
   "metadata": {},
   "source": [
    "![](DecisionTree.jpg)"
   ]
  },
  {
   "cell_type": "markdown",
   "metadata": {},
   "source": [
    "There are a number of core algorithms to construct a decision tree but what I will be showing you in this tutorial will be by the use of CART. Before moving on further, there are two key terms which you need to be aware of :-\n",
    "<ul>\n",
    "    <li><h4>Entropy</h4> CART algorithm uses entropy to calculate the homogeneity of a sample. If the sample is completely                              homogeneous the entropy is zero and if the sample is an equally divided it has entropy of one. It is                            found by summation of product of probabilities of all occurences and their logarithms. So,<br>\n",
    "                                  "
   ]
  },
  {
   "cell_type": "markdown",
   "metadata": {},
   "source": [
    "![](maxresdefault.jpg)"
   ]
  },
  {
   "cell_type": "markdown",
   "metadata": {},
   "source": [
    "where<br>H(X)=entropy,<br> P(xi)=probability of ith occurence,\n",
    "    <br>\n",
    "<ul>\n",
    "    <li><h4>Information Gain</h4> The information gain is based on the decrease in entropy after a dataset is split on an                                         attribute. Constructing a decision tree is all about finding attribute that returns the                                         highest information gain (i.e., the most homogeneous branches).\n",
    "        \n",
    "    "
   ]
  },
  {
   "cell_type": "markdown",
   "metadata": {},
   "source": [
    "![](gain_form.png)"
   ]
  },
  {
   "cell_type": "markdown",
   "metadata": {},
   "source": [
    "where<br>\n",
    "                                     Gain(S,D)=Information Gain of parent node S and child nodes D,<br> H(S)=Entropy before splitting,<br>H(V)=Entropy of child node,<br>V=Number of samples of child node,<br>S=number of samples of parent node"
   ]
  },
  {
   "cell_type": "markdown",
   "metadata": {},
   "source": [
    "<h3>Regression</h3><br>\n",
    "So let us cover regression by the use of deision trees first. To perform regression using a decision tree constructed from CART, we replace information gain by standard deviation. Before we move on further let me brush up some important terminologies that we will be using in this algorithm :-\n",
    "<ul>    \n",
    "    <li><h6>Standard Deviation(SD)</h6> Gives an approximate measure of the variability of data from the mean point. \n",
    "                                It is used for tree building.\n",
    "    </li>\n",
    "    <li><h6>Coefficient of Variation(CV)</h6> It is a standardized measure of dispersion of a probability or frequency distribution.<br>\n",
    "                                      It is used to decide the stopping point in branching.\n",
    "    </li>\n",
    "</ul>"
   ]
  },
  {
   "cell_type": "markdown",
   "metadata": {},
   "source": [
    "![](stand_dev.jpg)"
   ]
  },
  {
   "cell_type": "markdown",
   "metadata": {},
   "source": [
    "The <b><u>algorithm</u></b> is as follows :-\n",
    "<ol>\n",
    "    <li><b>Step 1</b> - The standard deviation of the target is calculated.</li> \n",
    "    <li><b>Step 2</b> - The dataset is then split on the different attributes. The standard deviation for each branch is calculated. The resulting standard deviation is subtracted from the standard deviation before the split. The result is the standard deviation reduction. </li>\n",
    "    <li><b>Step 3</b> - The attribute with the largest standard deviation reduction is chosen for the decision node. </li>\n",
    "    <li><b>Step 4</b> - The dataset is divided based on the values of the selected attribute. This process is run recursively on the non-leaf branch, until all data is processed.\n",
    "             <br>As in a recursion, we need a terminating step to ensure that the recursion is brought to a halt at the desired point. For example, when coefficient of deviation (CV) for a branch becomes smaller than a certain threshold (e.g., 10%) and/or when too few instances(n) remain in the branch (e.g., 3). </li>\n",
    "    <li><b>Step 5</b> - As soon as the terminating criteria is met, branching is stopped. When the number of instances is more than one at a leaf node we calculate the average as the final value for the target.</li>\n",
    "\n",
    "Based on these steps, our model for regression is prepared.<br>\n",
    "Now we move on to its implementation.\n",
    "</ol>"
   ]
  },
  {
   "cell_type": "code",
   "execution_count": 8,
   "metadata": {},
   "outputs": [],
   "source": [
    "# Importing the libraries\n",
    "import pandas as pd\n",
    "import matplotlib.pyplot as plt\n",
    "from sklearn.model_selection import train_test_split\n",
    "from sklearn.tree import DecisionTreeRegressor"
   ]
  },
  {
   "cell_type": "code",
   "execution_count": 9,
   "metadata": {},
   "outputs": [],
   "source": [
    "# Loading the dataset\n",
    "dataset= pd.read_csv('Heart_rate.csv')\n",
    "X= dataset.iloc[:,1:2].values\n",
    "y= dataset.iloc[:,-1].values  "
   ]
  },
  {
   "cell_type": "code",
   "execution_count": 10,
   "metadata": {},
   "outputs": [],
   "source": [
    "# Splitting the dataset\n",
    "X_train, X_test, y_train, y_test = train_test_split(X,y, test_size=0.2, random_state=0)"
   ]
  },
  {
   "cell_type": "code",
   "execution_count": 11,
   "metadata": {},
   "outputs": [
    {
     "data": {
      "text/plain": [
       "DecisionTreeRegressor(ccp_alpha=0.0, criterion='mse', max_depth=None,\n",
       "                      max_features=None, max_leaf_nodes=None,\n",
       "                      min_impurity_decrease=0.0, min_impurity_split=None,\n",
       "                      min_samples_leaf=1, min_samples_split=2,\n",
       "                      min_weight_fraction_leaf=0.0, presort='deprecated',\n",
       "                      random_state=0, splitter='best')"
      ]
     },
     "execution_count": 11,
     "metadata": {},
     "output_type": "execute_result"
    }
   ],
   "source": [
    "# Initialize and fit the model\n",
    "regr=DecisionTreeRegressor(random_state=0)\n",
    "regr.fit(X_train,y_train)"
   ]
  },
  {
   "cell_type": "code",
   "execution_count": 12,
   "metadata": {},
   "outputs": [
    {
     "data": {
      "text/plain": [
       "array([348.76, 313.5 , 295.29, 268.07])"
      ]
     },
     "execution_count": 12,
     "metadata": {},
     "output_type": "execute_result"
    }
   ],
   "source": [
    "# Predicting\n",
    "y_out = regr.predict(X_test)\n",
    "y_out"
   ]
  },
  {
   "cell_type": "code",
   "execution_count": 13,
   "metadata": {},
   "outputs": [
    {
     "data": {
      "image/png": "[encoded data removed]",
      "text/plain": [
       "<Figure size 432x288 with 1 Axes>"
      ]
     },
     "metadata": {
      "needs_background": "light"
     },
     "output_type": "display_data"
    }
   ],
   "source": [
    "# Plotting Training set result\n",
    "import numpy as np\n",
    "X_grid = np.arange(min(X), max(X), 0.01)\n",
    "X_grid = X_grid.reshape((len(X_grid), 1))\n",
    "plt.scatter(X_train, y_train, color = 'red')\n",
    "plt.plot(X_grid, regr.predict(X_grid), color = 'blue')\n",
    "plt.title('Heart Rate Barorefexes')\n",
    "plt.xlabel('Pressure')\n",
    "plt.ylabel('Heart Rate')\n",
    "plt.show()"
   ]
  },
  {
   "cell_type": "code",
   "execution_count": 14,
   "metadata": {},
   "outputs": [
    {
     "data": {
      "image/png": "[encoded data removed]",
      "text/plain": [
       "<Figure size 432x288 with 1 Axes>"
      ]
     },
     "metadata": {
      "needs_background": "light"
     },
     "output_type": "display_data"
    }
   ],
   "source": [
    "# Plotting Test set result\n",
    "X_grid = np.arange(min(X), max(X), 0.01)\n",
    "X_grid = X_grid.reshape((len(X_grid), 1))\n",
    "plt.scatter(X_test, y_test, color = 'red')\n",
    "plt.plot(X_grid, regr.predict(X_grid), color = 'blue')\n",
    "plt.title('Heart Rate Barorefexes For Rabbits)')\n",
    "plt.xlabel('Pressure')\n",
    "plt.ylabel('Heart Rate')\n",
    "plt.show()\n"
   ]
  },
  {
   "cell_type": "markdown",
   "metadata": {},
   "source": [
    "<h3>Classification</h3>\n",
    "<br>\n",
    "Now we move on to classification using decision trees.  Here we use both the terminologies discussed above i.e. entropy and information gain. The algorithm is as follows :-\n",
    "    <ol>\n",
    "    <li><b>Step 1</b> - The entropy of the target is calculated.</li>\n",
    "    <li><b>Step 2</b> - The dataset is then split on the different attributes. The entropy for each branch is calculated. Then it is added proportionally, to get total entropy for the split. The resulting entropy is subtracted from the entropy before the split. The result is the Information Gain, or decrease in entropy.</li>\n",
    "    <li><b>Step 3</b> - The attribute with the largest information gain is chosen as the decision node. The dataset is divided by its branches and the same process is repeated on every branch.</li>\n",
    "    <li><b>Step 4</b> - A branch with entropy of 0 is a leaf node. A branch with entropy more than 0 needs further splitting.\n",
    "    </li>\n",
    "    <li><b>Step 5</b> - The CART algorithm is run recursively on the non-leaf branches, until all data is classified.</li>\n",
    "Based on these steps, our classification model is built.\n",
    "    </ol>"
   ]
  },
  {
   "cell_type": "code",
   "execution_count": 16,
   "metadata": {},
   "outputs": [],
   "source": [
    "#Importing the libraries\n",
    "import pandas as pd\n",
    "from sklearn.model_selection import train_test_split     # to split data into test and train set\n",
    "from sklearn.tree import DecisionTreeClassifier          # import the Decision tree classifier from scikit learn"
   ]
  },
  {
   "cell_type": "code",
   "execution_count": 17,
   "metadata": {},
   "outputs": [],
   "source": [
    "#Loading the dataset \n",
    "dataset = pd.read_csv('Email_spam.csv')\n",
    "X = dataset.iloc[:, :-1].values     # predictor attributes\n",
    "y = dataset.iloc[:, -1].values      # target attributes"
   ]
  },
  {
   "cell_type": "code",
   "execution_count": 18,
   "metadata": {},
   "outputs": [],
   "source": [
    "X_train, X_test, y_train, y_test = train_test_split(X,y, test_size=0.005, random_state=0)"
   ]
  },
  {
   "cell_type": "code",
   "execution_count": 19,
   "metadata": {},
   "outputs": [
    {
     "data": {
      "text/plain": [
       "DecisionTreeClassifier(ccp_alpha=0.0, class_weight=None, criterion='entropy',\n",
       "                       max_depth=None, max_features=None, max_leaf_nodes=None,\n",
       "                       min_impurity_decrease=0.0, min_impurity_split=None,\n",
       "                       min_samples_leaf=1, min_samples_split=2,\n",
       "                       min_weight_fraction_leaf=0.0, presort='deprecated',\n",
       "                       random_state=0, splitter='best')"
      ]
     },
     "execution_count": 19,
     "metadata": {},
     "output_type": "execute_result"
    }
   ],
   "source": [
    "#initialize and fit the Decision tree model\n",
    "classifier=DecisionTreeClassifier(criterion ='entropy', random_state= 0)\n",
    "classifier.fit(X_train,y_train)"
   ]
  },
  {
   "cell_type": "code",
   "execution_count": 20,
   "metadata": {
    "scrolled": true
   },
   "outputs": [
    {
     "data": {
      "text/plain": [
       "0.8333333333333334"
      ]
     },
     "execution_count": 20,
     "metadata": {},
     "output_type": "execute_result"
    }
   ],
   "source": [
    "# predicting the result\n",
    "y_out = classifier.predict(X_test)\n",
    "y_out\n",
    "\n",
    "# accuracy score\n",
    "from sklearn.metrics import accuracy_score\n",
    "ac=accuracy_score(y_test,y_out)\n",
    "ac"
   ]
  }
 ],
 "metadata": {
  "kernelspec": {
   "display_name": "Python 3",
   "language": "python",
   "name": "python3"
  },
  "language_info": {
   "codemirror_mode": {
    "name": "ipython",
    "version": 3
   },
   "file_extension": ".py",
   "mimetype": "text/x-python",
   "name": "python",
   "nbconvert_exporter": "python",
   "pygments_lexer": "ipython3",
   "version": "3.7.6"
  }
 },
 "nbformat": 4,
 "nbformat_minor": 4
}
